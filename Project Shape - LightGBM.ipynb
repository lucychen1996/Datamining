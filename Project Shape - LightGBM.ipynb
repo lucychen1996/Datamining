{
 "cells": [
  {
   "cell_type": "code",
   "execution_count": 2,
   "metadata": {},
   "outputs": [],
   "source": [
    "import pandas as pd\n",
    "import sklearn\n",
    "import random\n",
    "import matplotlib.pyplot as plt\n",
    "import seaborn as sns\n",
    "import numpy as np\n",
    "from sklearn import metrics\n",
    "from sklearn import model_selection, naive_bayes, svm, metrics\n",
    "from sklearn import preprocessing\n",
    "from sklearn.model_selection import cross_val_score\n",
    "from sklearn.metrics import confusion_matrix, precision_score, recall_score, accuracy_score\n"
   ]
  },
  {
   "cell_type": "code",
   "execution_count": 3,
   "metadata": {},
   "outputs": [],
   "source": [
    "df = pd.read_csv('reports_with_vectors_1000.csv')"
   ]
  },
  {
   "cell_type": "code",
   "execution_count": 4,
   "metadata": {},
   "outputs": [
    {
     "name": "stdout",
     "output_type": "stream",
     "text": [
      "<class 'pandas.core.frame.DataFrame'>\n",
      "RangeIndex: 112095 entries, 0 to 112094\n",
      "Columns: 1009 entries, Unnamed: 0 to you\n",
      "dtypes: float64(1005), int64(1), object(3)\n",
      "memory usage: 862.9+ MB\n"
     ]
    }
   ],
   "source": [
    "df.info()"
   ]
  },
  {
   "cell_type": "code",
   "execution_count": 5,
   "metadata": {},
   "outputs": [
    {
     "data": {
      "text/plain": [
       "light        22762\n",
       "circle       18504\n",
       "sphere       16016\n",
       "other        15607\n",
       "triangle     10497\n",
       "oval          7050\n",
       "cylinder      4404\n",
       "formation     3456\n",
       "changing      2716\n",
       "flash         1963\n",
       "rectangle     1848\n",
       "diamond       1650\n",
       "chevron       1294\n",
       "cone           468\n",
       "cross          344\n",
       "Name: shape, dtype: int64"
      ]
     },
     "execution_count": 5,
     "metadata": {},
     "output_type": "execute_result"
    }
   ],
   "source": [
    "df['shape'].value_counts()"
   ]
  },
  {
   "cell_type": "code",
   "execution_count": 6,
   "metadata": {},
   "outputs": [],
   "source": [
    "df = df[pd.notnull(df['shape'])]"
   ]
  },
  {
   "cell_type": "code",
   "execution_count": 7,
   "metadata": {},
   "outputs": [],
   "source": [
    "cat_cols = ['region']\n",
    "\n",
    "for col in cat_cols:\n",
    "    temp = pd.get_dummies(df[col], prefix=col)\n",
    "    df= pd.concat([df, temp], axis=1)"
   ]
  },
  {
   "cell_type": "code",
   "execution_count": null,
   "metadata": {},
   "outputs": [],
   "source": []
  },
  {
   "cell_type": "code",
   "execution_count": 8,
   "metadata": {},
   "outputs": [],
   "source": [
    "from sklearn.preprocessing import LabelEncoder\n",
    "Encoder = LabelEncoder()\n",
    "y= Encoder.fit_transform(df['shape'])"
   ]
  },
  {
   "cell_type": "code",
   "execution_count": 9,
   "metadata": {},
   "outputs": [],
   "source": [
    "d = dict(zip(df['shape'], y))"
   ]
  },
  {
   "cell_type": "code",
   "execution_count": 10,
   "metadata": {},
   "outputs": [],
   "source": [
    "d = pd.DataFrame(\n",
    "sorted(d.items(), key=lambda x: x[1], reverse=False))"
   ]
  },
  {
   "cell_type": "code",
   "execution_count": 11,
   "metadata": {},
   "outputs": [
    {
     "data": {
      "text/html": [
       "<div>\n",
       "<style scoped>\n",
       "    .dataframe tbody tr th:only-of-type {\n",
       "        vertical-align: middle;\n",
       "    }\n",
       "\n",
       "    .dataframe tbody tr th {\n",
       "        vertical-align: top;\n",
       "    }\n",
       "\n",
       "    .dataframe thead th {\n",
       "        text-align: right;\n",
       "    }\n",
       "</style>\n",
       "<table border=\"1\" class=\"dataframe\">\n",
       "  <thead>\n",
       "    <tr style=\"text-align: right;\">\n",
       "      <th></th>\n",
       "      <th>0</th>\n",
       "      <th>1</th>\n",
       "    </tr>\n",
       "  </thead>\n",
       "  <tbody>\n",
       "    <tr>\n",
       "      <th>0</th>\n",
       "      <td>changing</td>\n",
       "      <td>0</td>\n",
       "    </tr>\n",
       "    <tr>\n",
       "      <th>1</th>\n",
       "      <td>chevron</td>\n",
       "      <td>1</td>\n",
       "    </tr>\n",
       "    <tr>\n",
       "      <th>2</th>\n",
       "      <td>circle</td>\n",
       "      <td>2</td>\n",
       "    </tr>\n",
       "    <tr>\n",
       "      <th>3</th>\n",
       "      <td>cone</td>\n",
       "      <td>3</td>\n",
       "    </tr>\n",
       "    <tr>\n",
       "      <th>4</th>\n",
       "      <td>cross</td>\n",
       "      <td>4</td>\n",
       "    </tr>\n",
       "    <tr>\n",
       "      <th>5</th>\n",
       "      <td>cylinder</td>\n",
       "      <td>5</td>\n",
       "    </tr>\n",
       "    <tr>\n",
       "      <th>6</th>\n",
       "      <td>diamond</td>\n",
       "      <td>6</td>\n",
       "    </tr>\n",
       "    <tr>\n",
       "      <th>7</th>\n",
       "      <td>flash</td>\n",
       "      <td>7</td>\n",
       "    </tr>\n",
       "    <tr>\n",
       "      <th>8</th>\n",
       "      <td>formation</td>\n",
       "      <td>8</td>\n",
       "    </tr>\n",
       "    <tr>\n",
       "      <th>9</th>\n",
       "      <td>light</td>\n",
       "      <td>9</td>\n",
       "    </tr>\n",
       "    <tr>\n",
       "      <th>10</th>\n",
       "      <td>other</td>\n",
       "      <td>10</td>\n",
       "    </tr>\n",
       "    <tr>\n",
       "      <th>11</th>\n",
       "      <td>oval</td>\n",
       "      <td>11</td>\n",
       "    </tr>\n",
       "    <tr>\n",
       "      <th>12</th>\n",
       "      <td>rectangle</td>\n",
       "      <td>12</td>\n",
       "    </tr>\n",
       "    <tr>\n",
       "      <th>13</th>\n",
       "      <td>sphere</td>\n",
       "      <td>13</td>\n",
       "    </tr>\n",
       "    <tr>\n",
       "      <th>14</th>\n",
       "      <td>triangle</td>\n",
       "      <td>14</td>\n",
       "    </tr>\n",
       "  </tbody>\n",
       "</table>\n",
       "</div>"
      ],
      "text/plain": [
       "            0   1\n",
       "0    changing   0\n",
       "1     chevron   1\n",
       "2      circle   2\n",
       "3        cone   3\n",
       "4       cross   4\n",
       "5    cylinder   5\n",
       "6     diamond   6\n",
       "7       flash   7\n",
       "8   formation   8\n",
       "9       light   9\n",
       "10      other  10\n",
       "11       oval  11\n",
       "12  rectangle  12\n",
       "13     sphere  13\n",
       "14   triangle  14"
      ]
     },
     "execution_count": 11,
     "metadata": {},
     "output_type": "execute_result"
    }
   ],
   "source": [
    "d"
   ]
  },
  {
   "cell_type": "code",
   "execution_count": 12,
   "metadata": {},
   "outputs": [],
   "source": [
    "x = df.drop(columns =['shape', 'Unnamed: 0','citystate','region'])"
   ]
  },
  {
   "cell_type": "code",
   "execution_count": 13,
   "metadata": {},
   "outputs": [],
   "source": [
    "from sklearn.model_selection import train_test_split\n",
    "x_train, x_test, y_train, y_test = train_test_split(x, \n",
    "                                                    y, \n",
    "                                                    test_size=0.2, \n",
    "                                                    random_state=1,stratify=y)"
   ]
  },
  {
   "cell_type": "code",
   "execution_count": 14,
   "metadata": {},
   "outputs": [],
   "source": [
    "import lightgbm as lgb\n",
    "from sklearn.model_selection import RandomizedSearchCV\n",
    "\n",
    "x_train, x_val, y_train, y_val = train_test_split(x_train, y_train, test_size = 0.2, random_state=1, stratify=y_train)\n",
    "\n"
   ]
  },
  {
   "cell_type": "code",
   "execution_count": 15,
   "metadata": {},
   "outputs": [],
   "source": [
    "lgb_mdl_rand = lgb.LGBMClassifier(boosting_type = 'gbdt',\n",
    "                                n_jobs = -1,\n",
    "                                objective = 'multiclass',\n",
    "                                num_iterations = 3,\n",
    "                                metric = 'multi_logloss',\n",
    "                                pos_bagging_fraction = 0.5,\n",
    "                                  \n",
    "                               )\n",
    "\n",
    "lgb_grid_params_rand = { \n",
    "    'learning_rate': [1, 3, 5],\n",
    "    'estimator__max_depth' : [10, 20, 30],\n",
    "    'num_leaves': [5, 10,15,20],\n",
    "    \n",
    "}\n",
    "\n",
    "lgb_gs_rand = RandomizedSearchCV(lgb_mdl_rand, lgb_grid_params_rand,\n",
    "                                 n_jobs=1, cv=4,\n",
    "                                 random_state=2)\n",
    "\n",
    "fit_params={\"early_stopping_rounds\" : 10,\n",
    "           \"eval_set\" : [[x_val, y_val]]}\n"
   ]
  },
  {
   "cell_type": "code",
   "execution_count": 16,
   "metadata": {},
   "outputs": [],
   "source": [
    "lgb_gs_rand.fit(x_train, y_train, **fit_params)"
   ]
  },
  {
   "cell_type": "code",
   "execution_count": 17,
   "metadata": {},
   "outputs": [],
   "source": [
    "lgb_train_predictions =lgb_gs_rand.predict(x_train)\n",
    "lgb_test_predictions= lgb_gs_rand.predict(x_test)\n",
    "\n",
    "train_probs_lgb_r = lgb_gs_rand.predict_proba(x_train)\n",
    "test_probs_lgb_r = lgb_gs_rand.predict_proba(x_test)\n"
   ]
  },
  {
   "cell_type": "code",
   "execution_count": 18,
   "metadata": {},
   "outputs": [],
   "source": [
    "accuracy_score(lgb_train_predictions, y_train)"
   ]
  },
  {
   "cell_type": "code",
   "execution_count": 19,
   "metadata": {},
   "outputs": [],
   "source": [
    "accuracy_score(lgb_test_predictions, y_test)"
   ]
  },
  {
   "cell_type": "code",
   "execution_count": 20,
   "metadata": {},
   "outputs": [],
   "source": [
    "from sklearn.metrics import log_loss\n",
    "log_loss(y_train, train_probs_lgb_r)"
   ]
  },
  {
   "cell_type": "code",
   "execution_count": 21,
   "metadata": {},
   "outputs": [],
   "source": [
    "log_loss(y_test, test_probs_lgb_r)"
   ]
  },
  {
   "cell_type": "code",
   "execution_count": 22,
   "metadata": {},
   "outputs": [],
   "source": [
    "lgb_gs_rand.best_params_"
   ]
  },
  {
   "cell_type": "code",
   "execution_count": 23,
   "metadata": {},
   "outputs": [],
   "source": [
    "pd.crosstab(y_test, lgb_test_predictions,\n",
    "            rownames=['True'], colnames=['Predicted'], margins=True)"
   ]
  },
  {
   "cell_type": "code",
   "execution_count": 24,
   "metadata": {},
   "outputs": [],
   "source": [
    "lightgbm_hp_test = lgb.Dataset(x_test, y_test)\n",
    "lightgbm_hp_train = lgb.Dataset(x_train, y_train)\n",
    "lightgbm_hp_val = lgb.Dataset(x_val, y_val)"
   ]
  },
  {
   "cell_type": "code",
   "execution_count": 25,
   "metadata": {},
   "outputs": [],
   "source": [
    "# Sets the space to search over and the prior probabilities over the search space \n",
    "import hyperopt as hp\n",
    "from hyperopt import Trials,fmin,STATUS_OK\n",
    "lgbm_space = {\n",
    "\n",
    "# hp.choice.choice will select 1 value from the given list  , 'dart', 'goss', 'rf'\n",
    "    'boosting_type': hp.hp.choice('boosting_type',  ['gbdt']),\n",
    "    'num_leaves':hp.hp.choice('num_leaves', np.arange(10, 300,1, dtype=int)),\n",
    "\n",
    "    'subsample':hp.hp.quniform('subsample',0.5,1.0,0.05),\n",
    "    'colsample_bytree':hp.hp.quniform('colsample_bytree',0.5,1.0,0.05),\n",
    "    'min_child_weight':hp.hp.quniform('min_child_weight', 100, 1000,100),\n",
    "    'reg_alpha': hp.hp.uniform('reg_alpha', 0.0, 1000.0),\n",
    "    'reg_lambda': hp.hp.uniform('reg_lambda', 0.0, 1000.0),\n",
    "    'learning_rate': hp.hp.loguniform('learning_rate', -4, 0),\n",
    "    'feature_fraction': hp.hp.loguniform('feature_fraction', -4, 0),\n",
    "    'bagging_fraction': hp.hp.loguniform('bagging_fraction', -4, 0),\n",
    "    'bagging_frequency':hp.hp.choice('bagging_frequency', np.arange(5, 100,1, dtype=int)),\n",
    "    'drop_rate': hp.hp.loguniform('drop_rate', -4, 0),\n",
    "    'scale_pos_weight': hp.hp.uniform('scale_pos_weight', 6.0, 10.0),\n",
    "    \n",
    "    'num_class' : 1, \n",
    "    'metric' : 'auc',\n",
    "    'nthread': 6, \n",
    "    'max_bin': 512\n",
    "    }"
   ]
  },
  {
   "cell_type": "code",
   "execution_count": 26,
   "metadata": {},
   "outputs": [
    {
     "name": "stdout",
     "output_type": "stream",
     "text": [
      "100%|███████████████████████████████████████████████████| 20/20 [09:08<00:00, 20.42s/it, best loss: 0.3754336195154675]\n"
     ]
    }
   ],
   "source": [
    "# Here we define an objective (loss) function I take \n",
    "def objective_m(params, n_folds=5):\n",
    "\n",
    "\n",
    "    model = lgb.cv(params = params,\n",
    "              train_set = lightgbm_hp_train,\n",
    "              num_boost_round = 10000,\n",
    "              early_stopping_rounds = 10,\n",
    "             nfold = n_folds)\n",
    "  \n",
    "    \n",
    "  \n",
    "    # returns the best average loss on validation set \n",
    "    #need loss function; need the 1-auc- because try to maximize; \n",
    "    \n",
    "    loss = 1 - (max(model['auc-mean'])) #/max*modedl['std-mean']to normalize it\n",
    "    return loss\n",
    "\n",
    "\n",
    "bayes_trials = Trials()\n",
    "MAX_EVALS = 20 # this controls the runtime \n",
    "\n",
    "lgbm_best_m = fmin(fn = objective_m, space = lgbm_space, algo = hp.tpe.suggest, \n",
    "max_evals = MAX_EVALS, trials = bayes_trials)"
   ]
  },
  {
   "cell_type": "code",
   "execution_count": 35,
   "metadata": {},
   "outputs": [
    {
     "data": {
      "text/plain": [
       "{'bagging_fraction': 0.2023277887592808,\n",
       " 'bagging_frequency': 35,\n",
       " 'boosting_type': 0,\n",
       " 'colsample_bytree': 0.8,\n",
       " 'drop_rate': 0.054230323092144664,\n",
       " 'feature_fraction': 0.5469909816575599,\n",
       " 'learning_rate': 0.22935726079049248,\n",
       " 'min_child_weight': 300.0,\n",
       " 'num_leaves': 137,\n",
       " 'reg_alpha': 108.80094399619455,\n",
       " 'reg_lambda': 429.1433341293549,\n",
       " 'scale_pos_weight': 6.912132053630817,\n",
       " 'subsample': 0.65}"
      ]
     },
     "execution_count": 35,
     "metadata": {},
     "output_type": "execute_result"
    }
   ],
   "source": [
    "lgbm_best_m"
   ]
  },
  {
   "cell_type": "code",
   "execution_count": 36,
   "metadata": {},
   "outputs": [],
   "source": [
    "lgb_clf = lgb.LGBMClassifier(params = lgbm_best_m)"
   ]
  },
  {
   "cell_type": "code",
   "execution_count": 37,
   "metadata": {},
   "outputs": [],
   "source": [
    "lgb_clf = lgb.LGBMClassifier(\n",
    " boosting_type='gbdt',\n",
    " bagging_fraction= 0.703289623071987,\n",
    " bagging_frequency=92,\n",
    " colsample_bytree= 0.8500000000000001,\n",
    " drop_rate=0.24815050039128092,\n",
    " feature_fraction= 0.9333524600272556,\n",
    " learning_rate= 0.851438523524139,\n",
    " min_child_weight= 800.0,\n",
    " num_leaves= 145,\n",
    " reg_alpha=332.1387607329755,\n",
    " reg_lambda= 991.3161338134053,\n",
    " scale_pos_weight= 8.849542137240574,\n",
    " subsample =0.75)\n"
   ]
  },
  {
   "cell_type": "code",
   "execution_count": 38,
   "metadata": {},
   "outputs": [],
   "source": [
    "lgb_clf.fit(x_train, y_train)\n",
    "\n",
    "lgb_train_predictions =lgb_clf.predict(x_train)\n",
    "lgb_test_predictions= lgb_clf.predict(x_test)\n",
    "\n",
    "train_probs_lgb_r = lgb_clf.predict_proba(x_train)\n",
    "test_probs_lgb_r = lgb_clf.predict_proba(x_test)\n"
   ]
  },
  {
   "cell_type": "code",
   "execution_count": 40,
   "metadata": {},
   "outputs": [
    {
     "name": "stdout",
     "output_type": "stream",
     "text": [
      "train accuracy:  0.3807454309972658\n",
      "test accuracy:  0.36737889114017314\n",
      "train logloss:  2.0886163988204793\n",
      "test logloss:  2.117645602746526\n"
     ]
    }
   ],
   "source": [
    "print('train accuracy: ', accuracy_score(lgb_train_predictions, y_train))\n",
    "print('test accuracy: ',accuracy_score(lgb_test_predictions, y_test))\n",
    "from sklearn.metrics import log_loss\n",
    "print('train logloss: ',log_loss(y_train, train_probs_lgb_r))\n",
    "print('test logloss: ',log_loss(y_test, test_probs_lgb_r))"
   ]
  },
  {
   "cell_type": "code",
   "execution_count": 34,
   "metadata": {},
   "outputs": [
    {
     "name": "stderr",
     "output_type": "stream",
     "text": [
      "C:\\Users\\Lucyc\\Anaconda3\\lib\\site-packages\\lightgbm\\engine.py:148: UserWarning: Found `num_iterations` in params. Will use it instead of argument\n",
      "  warnings.warn(\"Found `{}` in params. Will use it instead of argument\".format(alias))\n"
     ]
    }
   ],
   "source": [
    "import shap\n",
    "\n",
    "lgb_clf = lgb.LGBMClassifier(boosting_type = 'gbdt',\n",
    "                                n_jobs = -1,\n",
    "                                objective = 'multiclass',\n",
    "                                num_iterations = 3,\n",
    "                                metric = 'multi_logloss',\n",
    "                                pos_bagging_fraction = 0.5,\n",
    "                    num_leaves= 20, learning_rate= 1, estimator__max_depth=30)\n",
    "\n",
    "lgb_clf.fit(x_train,y_train)\n",
    "                \n",
    "shape_shap_explainer = shap.TreeExplainer(lgb_clf)"
   ]
  },
  {
   "cell_type": "code",
   "execution_count": 36,
   "metadata": {},
   "outputs": [],
   "source": [
    "shape_shap_vals_train = shape_shap_explainer.shap_values(x_train)"
   ]
  },
  {
   "cell_type": "code",
   "execution_count": 37,
   "metadata": {},
   "outputs": [],
   "source": [
    "shape_shap_vals_test = shape_shap_explainer.shap_values(x_test)"
   ]
  },
  {
   "cell_type": "code",
   "execution_count": 38,
   "metadata": {},
   "outputs": [
    {
     "ename": "MemoryError",
     "evalue": "",
     "output_type": "error",
     "traceback": [
      "\u001b[1;31m---------------------------------------------------------------------------\u001b[0m",
      "\u001b[1;31mMemoryError\u001b[0m                               Traceback (most recent call last)",
      "\u001b[1;32m<ipython-input-38-408e2571b5e9>\u001b[0m in \u001b[0;36m<module>\u001b[1;34m\u001b[0m\n\u001b[0;32m      1\u001b[0m \u001b[1;31m# We can also plot the variable importance of all of our variables in a summary plot\u001b[0m\u001b[1;33m\u001b[0m\u001b[1;33m\u001b[0m\u001b[1;33m\u001b[0m\u001b[0m\n\u001b[1;32m----> 2\u001b[1;33m \u001b[0mshap\u001b[0m\u001b[1;33m.\u001b[0m\u001b[0msummary_plot\u001b[0m\u001b[1;33m(\u001b[0m\u001b[0mcat_shap_vals_train\u001b[0m\u001b[1;33m,\u001b[0m \u001b[0mx_train\u001b[0m\u001b[1;33m)\u001b[0m\u001b[1;33m\u001b[0m\u001b[1;33m\u001b[0m\u001b[0m\n\u001b[0m",
      "\u001b[1;32m~\\Anaconda3\\lib\\site-packages\\shap\\plots\\summary.py\u001b[0m in \u001b[0;36msummary_plot\u001b[1;34m(shap_values, features, feature_names, max_display, plot_type, color, axis_color, title, alpha, show, sort, color_bar, plot_size, layered_violin_max_num_bins, class_names, color_bar_label, auto_size_plot)\u001b[0m\n\u001b[0;32m    188\u001b[0m         \u001b[1;31m# order features by the sum of their effect magnitudes\u001b[0m\u001b[1;33m\u001b[0m\u001b[1;33m\u001b[0m\u001b[1;33m\u001b[0m\u001b[0m\n\u001b[0;32m    189\u001b[0m         \u001b[1;32mif\u001b[0m \u001b[0mmulti_class\u001b[0m\u001b[1;33m:\u001b[0m\u001b[1;33m\u001b[0m\u001b[1;33m\u001b[0m\u001b[0m\n\u001b[1;32m--> 190\u001b[1;33m             \u001b[0mfeature_order\u001b[0m \u001b[1;33m=\u001b[0m \u001b[0mnp\u001b[0m\u001b[1;33m.\u001b[0m\u001b[0margsort\u001b[0m\u001b[1;33m(\u001b[0m\u001b[0mnp\u001b[0m\u001b[1;33m.\u001b[0m\u001b[0msum\u001b[0m\u001b[1;33m(\u001b[0m\u001b[0mnp\u001b[0m\u001b[1;33m.\u001b[0m\u001b[0mmean\u001b[0m\u001b[1;33m(\u001b[0m\u001b[0mnp\u001b[0m\u001b[1;33m.\u001b[0m\u001b[0mabs\u001b[0m\u001b[1;33m(\u001b[0m\u001b[0mshap_values\u001b[0m\u001b[1;33m)\u001b[0m\u001b[1;33m,\u001b[0m \u001b[0maxis\u001b[0m\u001b[1;33m=\u001b[0m\u001b[1;36m0\u001b[0m\u001b[1;33m)\u001b[0m\u001b[1;33m,\u001b[0m \u001b[0maxis\u001b[0m\u001b[1;33m=\u001b[0m\u001b[1;36m0\u001b[0m\u001b[1;33m)\u001b[0m\u001b[1;33m)\u001b[0m\u001b[1;33m\u001b[0m\u001b[1;33m\u001b[0m\u001b[0m\n\u001b[0m\u001b[0;32m    191\u001b[0m         \u001b[1;32melse\u001b[0m\u001b[1;33m:\u001b[0m\u001b[1;33m\u001b[0m\u001b[1;33m\u001b[0m\u001b[0m\n\u001b[0;32m    192\u001b[0m             \u001b[0mfeature_order\u001b[0m \u001b[1;33m=\u001b[0m \u001b[0mnp\u001b[0m\u001b[1;33m.\u001b[0m\u001b[0margsort\u001b[0m\u001b[1;33m(\u001b[0m\u001b[0mnp\u001b[0m\u001b[1;33m.\u001b[0m\u001b[0msum\u001b[0m\u001b[1;33m(\u001b[0m\u001b[0mnp\u001b[0m\u001b[1;33m.\u001b[0m\u001b[0mabs\u001b[0m\u001b[1;33m(\u001b[0m\u001b[0mshap_values\u001b[0m\u001b[1;33m)\u001b[0m\u001b[1;33m,\u001b[0m \u001b[0maxis\u001b[0m\u001b[1;33m=\u001b[0m\u001b[1;36m0\u001b[0m\u001b[1;33m)\u001b[0m\u001b[1;33m)\u001b[0m\u001b[1;33m\u001b[0m\u001b[1;33m\u001b[0m\u001b[0m\n",
      "\u001b[1;31mMemoryError\u001b[0m: "
     ]
    }
   ],
   "source": [
    "# We can also plot the variable importance of all of our variables in a summary plot\n",
    "shap.summary_plot(shape_shap_vals_train, x_train)"
   ]
  },
  {
   "cell_type": "code",
   "execution_count": null,
   "metadata": {},
   "outputs": [],
   "source": []
  }
 ],
 "metadata": {
  "kernelspec": {
   "display_name": "Python 3",
   "language": "python",
   "name": "python3"
  },
  "language_info": {
   "codemirror_mode": {
    "name": "ipython",
    "version": 3
   },
   "file_extension": ".py",
   "mimetype": "text/x-python",
   "name": "python",
   "nbconvert_exporter": "python",
   "pygments_lexer": "ipython3",
   "version": "3.7.3"
  }
 },
 "nbformat": 4,
 "nbformat_minor": 2
}
